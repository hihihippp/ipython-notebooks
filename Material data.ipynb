{
 "metadata": {
  "name": "Material data"
 },
 "nbformat": 3,
 "nbformat_minor": 0,
 "worksheets": [
  {
   "cells": [
    {
     "cell_type": "code",
     "collapsed": false,
     "input": [
      "def characteristic_property(xm,varcoef,n):\n",
      "    \"\"\" Computes the Characteristic strenght for the mean strength of a sample. \n",
      "        Characteristic strength is the stress where we are 75 % confident that the failure risk is less than 5%. \n",
      "        xm - mean value\n",
      "        varcoef - variation coeficient for the sample (s/xm)\n",
      "        n - the size of the sample \n",
      "\n",
      "        Source of method: Boverket - Dimensionering genom provning\n",
      "        \"\"\"\n",
      "    kpn = { 3:3.19,\n",
      "            4:2.68,\n",
      "            5:2.46,\n",
      "            6:2.33,\n",
      "            7:2.34,\n",
      "            8:2.18,\n",
      "            9:2.14,\n",
      "           10:2.10,\n",
      "           11:2.07,\n",
      "           12:2.04,\n",
      "           13:2.02,\n",
      "           14:2.00,\n",
      "           15:1.99,\n",
      "           16:1.97,\n",
      "           17:1.96,\n",
      "           18:1.95,\n",
      "           19:1.94,\n",
      "           20:1.93}\n",
      "    return xm*(1-varcoef*kpn[n])\n",
      "\n",
      "def characteristic_material(mat):\n",
      "    mat_char = mat.copy()\n",
      "    for key, value in mat.iteritems():\n",
      "        if type(value) == tuple:\n",
      "            mat_char[key] = characteristic_property(mat[key][0],mat[key][1],mat[key][2])\n",
      "        else:\n",
      "            mat_char[key] = value\n",
      "    return mat_char"
     ],
     "language": "python",
     "metadata": {},
     "outputs": [],
     "prompt_number": 39
    },
    {
     "cell_type": "code",
     "collapsed": false,
     "input": [
      "psi = 6.89475729 #kPa\n",
      "ksi = 1e3*psi\n",
      "Msi = 1e6*psi\n",
      "lbin3 = 27679.9047 # kg/m**3"
     ],
     "language": "python",
     "metadata": {},
     "outputs": [],
     "prompt_number": 11
    },
    {
     "cell_type": "code",
     "collapsed": false,
     "input": [
      "mat1 = {'Description': \"MR50/LTM25 UD laminate\",\n",
      "        'rho':0.0551*lbin3,\n",
      "        'Vf':0.609,\n",
      "        'E1t':(21.6*Msi,0.0414,6),\n",
      "        'v12t':(0.345,0.141,6),\n",
      "        'E1c':(22.3*Msi,0.0458,6),\n",
      "        'v12c':(0.366,0.330,6),\n",
      "        'E2t':(1.06*Msi,0.0244,6),\n",
      "        'v21t':(0.028,0.042,6),\n",
      "        'E2c':(1.21*Msi,0.079,6),\n",
      "        'v21c':(0.011,0.112,4),\n",
      "        'G12s':(0.608*Msi,0.0248,6),\n",
      "        'F1tu':(280*ksi,0.0455,6),\n",
      "        'F1cu':(171*ksi,0.0890,6),\n",
      "        'F2tu':(2.97*ksi,0.109,6),\n",
      "        'F2cu':(21.1*ksi,0.0374,6),\n",
      "        'F12su':(12.9*ksi,0.0156,6),\n",
      "        'Fpbr':(58.3*ksi,0.0558,6),  # bearing stress, proportional limit\n",
      "        'Fybr':(72.4*ksi,0.0971,6),  # bearing stress, yield strength\n",
      "        'Fubr':(143*ksi,0.0497,6)}   # bearing stress, ultimate strengthimp\n",
      "\n",
      "from pprint import pprint\n",
      "pprint(mat1)"
     ],
     "language": "python",
     "metadata": {},
     "outputs": [
      {
       "output_type": "stream",
       "stream": "stdout",
       "text": [
        "{'Description': 'MR50/LTM25 UD laminate',\n",
        " 'E1c': (153753087.567, 0.0458, 6),\n",
        " 'E1t': (148926757.46400002, 0.0414, 6),\n",
        " 'E2c': (8342656.3209, 0.079, 6),\n",
        " 'E2t': (7308442.7274, 0.0244, 6),\n",
        " 'F12su': (88942.36904100001, 0.0156, 6),\n",
        " 'F1cu': (1179003.49659, 0.089, 6),\n",
        " 'F1tu': (1930532.0412, 0.0455, 6),\n",
        " 'F2cu': (145479.37881900003, 0.0374, 6),\n",
        " 'F2tu': (20477.429151300003, 0.109, 6),\n",
        " 'Fpbr': (401964.35000700003, 0.0558, 6),\n",
        " 'Fubr': (985950.2924700001, 0.0497, 6),\n",
        " 'Fybr': (499180.4277960001, 0.0971, 6),\n",
        " 'G12s': (4192012.43232, 0.0248, 6),\n",
        " 'Vf': 0.609,\n",
        " 'rho': 1525.16274897,\n",
        " 'v12c': (0.366, 0.33, 6),\n",
        " 'v12t': (0.345, 0.141, 6),\n",
        " 'v21c': (0.011, 0.112, 4),\n",
        " 'v21t': (0.028, 0.042, 6)}\n"
       ]
      }
     ],
     "prompt_number": 50
    },
    {
     "cell_type": "code",
     "collapsed": false,
     "input": [
      "mat_char = characteristic_material(mat1)\n",
      "from pprint import pprint\n",
      "pprint(mat_char)"
     ],
     "language": "python",
     "metadata": {},
     "outputs": [
      {
       "output_type": "stream",
       "stream": "stdout",
       "text": [
        "{'Description': 'MR50/LTM25 UD laminate',\n",
        " 'E1c': 137345480.58037516,\n",
        " 'E1t': 134560984.58550763,\n",
        " 'E2c': 6807023.571911938,\n",
        " 'E2t': 6892943.141461856,\n",
        " 'F12su': 85709.49181109775,\n",
        " 'F1cu': 934513.5415021317,\n",
        " 'F1tu': 1725866.686852182,\n",
        " 'F2cu': 132802.01478995473,\n",
        " 'F2tu': 15276.77646974434,\n",
        " 'Fpbr': 349703.3570051899,\n",
        " 'Fubr': 871776.2626516816,\n",
        " 'Fybr': 386244.35027014965,\n",
        " 'G12s': 3949781.185930821,\n",
        " 'Vf': 0.609,\n",
        " 'rho': 1525.16274897,\n",
        " 'v12c': 0.0845826,\n",
        " 'v12t': 0.23165714999999998,\n",
        " 'v21c': 0.007698239999999999,\n",
        " 'v21t': 0.025259919999999998}\n"
       ]
      }
     ],
     "prompt_number": 48
    },
    {
     "cell_type": "code",
     "collapsed": false,
     "input": [],
     "language": "python",
     "metadata": {},
     "outputs": []
    }
   ],
   "metadata": {}
  }
 ]
}