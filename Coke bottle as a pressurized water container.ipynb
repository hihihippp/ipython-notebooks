{
 "metadata": {
  "name": "Coke bottle as a pressurized water container"
 },
 "nbformat": 3,
 "nbformat_minor": 0,
 "worksheets": [
  {
   "cells": [
    {
     "cell_type": "heading",
     "level": 1,
     "metadata": {},
     "source": [
      "Coke bottle as a pressurized water container"
     ]
    },
    {
     "cell_type": "markdown",
     "metadata": {},
     "source": [
      "One of my ideas for my plant automatic watering project is to use some ordinary water container as a pressure vessel\n",
      "\n",
      "<img src=\"http://www.jrvsystem.se/vanliga-fr%C3%A5gor/img/hydrofor.jpg\">\n",
      "\n",
      "Let's say I need to have 1 unit of pressure when there is no water in the tank. \n",
      "**What will the pressure be when the tank is 2/3 full?**\n",
      "\n",
      "To answer this we assume that air is an ideal gas (good approximation)\n",
      "\n",
      "$$pV = nRT$$\n",
      "\n",
      "Because we start out at pressure 1 and volume 1 we have $nRT = 1$. Hence\n",
      "\n",
      "$$p_{2/3} = \\frac{nRT}{V_{2/3}} = 3$$\n",
      "\n",
      "So we need the vessel to be able to withstand a pressure 3 times higher than the minimum pressure. "
     ]
    },
    {
     "cell_type": "code",
     "collapsed": false,
     "input": [],
     "language": "python",
     "metadata": {},
     "outputs": [
      {
       "output_type": "stream",
       "stream": "stderr",
       "text": [
        "ERROR: Line magic function `%tic` not found."
       ]
      }
     ],
     "prompt_number": 12
    },
    {
     "cell_type": "code",
     "collapsed": false,
     "input": [],
     "language": "python",
     "metadata": {},
     "outputs": []
    }
   ],
   "metadata": {}
  }
 ]
}