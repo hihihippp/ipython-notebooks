{
 "metadata": {
  "name": "tetrahedron"
 },
 "nbformat": 3,
 "nbformat_minor": 0,
 "worksheets": [
  {
   "cells": [
    {
     "cell_type": "markdown",
     "metadata": {},
     "source": [
      "###Calculate the angle between atoms in a molecule of tetrahedral arrangement\n",
      "\n",
      "It is well known that molecules of tetrahedral geometry have angle between bonding atoms of 109.5 degrees. For instance, consider methane, as shown below:\n",
      "\n",
      "<IMG height=\"200\" SRC=\"http://upload.wikimedia.org/wikipedia/commons/thumb/9/9b/Methane-2D-dimensions.svg/800px-Methane-2D-dimensions.svg.png\">\n",
      "<IMG height=\"200\" SRC=\"http://upload.wikimedia.org/wikipedia/commons/thumb/1/1f/Methane-CRC-MW-3D-balls.png/513px-Methane-CRC-MW-3D-balls.png\">\n",
      "\n",
      "This is just a check to see if I can reproduce that result from valence-shell electron pair repulsion theory by maximizing the distance between the atoms. "
     ]
    },
    {
     "cell_type": "code",
     "collapsed": false,
     "input": [
      "from pylab import *\n",
      "\n",
      "def sph2cart(r,phi,theta):\n",
      "    return array([r*sin(theta)*cos(phi),r*sin(theta)*sin(phi),r*cos(theta)])\n",
      "\n",
      "def atom_dist(x):\n",
      "    phi0 = 0.\n",
      "    theta0 = 0.\n",
      "    phi1 = 0.\n",
      "    theta1 = x[0]\n",
      "    phi2 = x[1]\n",
      "    theta2 = x[2]\n",
      "    phi3 = x[3]\n",
      "    theta3 = x[4]\n",
      "    d01 = norm(sph2cart(1.,phi0,theta0)-sph2cart(1.,phi1,theta1))\n",
      "    d02 = norm(sph2cart(1.,phi0,theta0)-sph2cart(1.,phi2,theta2))\n",
      "    d03 = norm(sph2cart(1.,phi0,theta0)-sph2cart(1.,phi3,theta3))\n",
      "    d12 = norm(sph2cart(1.,phi1,theta1)-sph2cart(1.,phi2,theta2))\n",
      "    d13 = norm(sph2cart(1.,phi1,theta1)-sph2cart(1.,phi3,theta3))\n",
      "    d23 = norm(sph2cart(1.,phi2,theta2)-sph2cart(1.,phi3,theta3))\n",
      "    return d01+d02+d03+d12+d13+d23\n",
      "\n",
      "from scipy.optimize import minimize   \n",
      "\n",
      "x0 = array([100.,-100.,100.,100.,100.])*pi/180.\n",
      "\n",
      "f = lambda x: 1./atom_dist(x)\n",
      "res = minimize(f, x0,method='BFGS',tol=1e-10,options={'disp': True})\n",
      "\n",
      "print \"\\nResult: theta =\", res.x*180./pi"
     ],
     "language": "python",
     "metadata": {},
     "outputs": [
      {
       "output_type": "stream",
       "stream": "stdout",
       "text": [
        "Warning: Desired error not necessarily achieved due to precision loss.\n",
        "         Current function value: 0.102062\n",
        "         Iterations: 31\n",
        "         Function evaluations: 348\n",
        "         Gradient evaluations: 48\n",
        "\n",
        "Result: theta = [ 109.47122428 -120.00000681  109.47121968  119.99999629  109.47121663]\n"
       ]
      }
     ],
     "prompt_number": 64
    },
    {
     "cell_type": "code",
     "collapsed": false,
     "input": [
      "arccos(-1./3)*180/pi"
     ],
     "language": "python",
     "metadata": {},
     "outputs": [
      {
       "output_type": "pyout",
       "prompt_number": 62,
       "text": [
        "109.47122063449069"
       ]
      }
     ],
     "prompt_number": 62
    },
    {
     "cell_type": "code",
     "collapsed": false,
     "input": [],
     "language": "python",
     "metadata": {},
     "outputs": []
    }
   ],
   "metadata": {}
  }
 ]
}