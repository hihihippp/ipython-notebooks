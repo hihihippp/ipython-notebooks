{
 "metadata": {
  "name": "normal_smoother"
 },
 "nbformat": 3,
 "nbformat_minor": 0,
 "worksheets": [
  {
   "cells": [
    {
     "cell_type": "code",
     "collapsed": false,
     "input": [
      "t = linspace(0,500,1000)\n",
      "x = sin(2*pi*t/(16*pi))+2*rand(1000)"
     ],
     "language": "python",
     "metadata": {},
     "outputs": [],
     "prompt_number": 2
    },
    {
     "cell_type": "code",
     "collapsed": false,
     "input": [
      "import scipy.signal\n",
      "b, a = scipy.signal.butter(1, 0.04, 'low')\n",
      "output_signal = scipy.signal.filtfilt(b, a, x)\n",
      "plot(t,x,label='original')\n",
      "plot(t,output_signal,label='filtered')\n",
      "legend()"
     ],
     "language": "python",
     "metadata": {},
     "outputs": [
      {
       "output_type": "pyout",
       "prompt_number": 3,
       "text": [
        "<matplotlib.legend.Legend at 0x113a9c990>"
       ]
      }
     ],
     "prompt_number": 3
    },
    {
     "cell_type": "code",
     "collapsed": false,
     "input": [
      "from pylab import *\n",
      "\n",
      "def circle_center(p0,p1,p2):\n",
      "    \n",
      "    A = array([p0,p1,p2])\n",
      "\n",
      "    # Handle the possibility that the plane defined by the three points goes through origo. \n",
      "    if cond(A) > 1e10:\n",
      "        offset = 100.\n",
      "    else:\n",
      "        offset = 0.\n",
      "\n",
      "    px0=p0[0]+1*offset\n",
      "    py0=p0[1]+2*offset\n",
      "    pz0=p0[2]+3*offset\n",
      "    px1=p1[0]+1*offset\n",
      "    py1=p1[1]+2*offset\n",
      "    pz1=p1[2]+3*offset\n",
      "    px2=p2[0]+1*offset\n",
      "    py2=p2[1]+2*offset\n",
      "    pz2=p2[2]+3*offset\n",
      "\n",
      "    A = array([[px0,py0,pz0],\n",
      "               [px1,py1,pz1],\n",
      "               [px2,py2,pz2]])\n",
      "\n",
      "    d = 100.\n",
      "    a = array([d,d,d])\n",
      "    \n",
      "    if cond(A) > 1e10:\n",
      "        # the points are colinear, just return something\n",
      "        res = array(p1)+cross(array(p2)-array(p1),[0.,0.,10.])\n",
      "        if norm(res) < 1e-5:\n",
      "            res = array(p1)+cross(array(p2)-array(p1),[10.,0.,0])\n",
      "        return res[0],res[1],res[2]\n",
      "        \n",
      "    abc = solve(A,a)  # The coefficients of the plane\n",
      "\n",
      "    B = array([ [-px0/2. + px1/2., -py0/2. + py1/2., -pz0/2. + pz1/2.],\n",
      "                [-px1/2. + px2/2., -py1/2. + py2/2., -pz1/2. + pz2/2.],\n",
      "                list(abc) ])\n",
      "    b = array([ -(px0**2/4. - px1**2/4. + py0**2/4. - py1**2/4. + pz0**2/4. - pz1**2/4.),\n",
      "                -(px1**2/4. - px2**2/4. + py1**2/4. - py2**2/4. + pz1**2/4. - pz2**2/4.),\n",
      "                                                                                d])\n",
      "\n",
      "    x = solve(B,b) - array([1*offset,2*offset,3*offset])\n",
      "    return x[0],x[1],x[2]"
     ],
     "language": "python",
     "metadata": {},
     "outputs": [],
     "prompt_number": 52
    },
    {
     "cell_type": "code",
     "collapsed": false,
     "input": [
      "P = 3.55\n",
      "D = 16.5\n",
      "\n",
      "x0 = D/2.*ones(200)\n",
      "y0 = linspace(-20,0,num=200,endpoint=False)\n",
      "z0 = zeros(200)\n",
      "\n",
      "z1 = linspace(0,30,1000)\n",
      "x1 = D/2.*cos(2*pi*z1/P)\n",
      "y1 = D/2.*sin(2*pi*z1/P)\n",
      "\n",
      "x = concatenate((x0,x1))\n",
      "y = concatenate((y0,y1))\n",
      "z = concatenate((z0,z1))\n",
      "\n",
      "ps = [[x[i],y[i],z[i]] for i in range(len(x))]\n",
      "cs = [circle_center(ps[i],ps[i+1],ps[i+2]) for i in range(len(x)-2)]\n",
      "\n",
      "from mayavi import mlab\n",
      "mlab.plot3d(x,y,z,z,tube_radius=1)\n",
      "acs = array(cs)\n",
      "mlab.points3d(acs[:,0],acs[:,1],acs[:,2])\n",
      "mlab.show()"
     ],
     "language": "python",
     "metadata": {},
     "outputs": [],
     "prompt_number": 53
    },
    {
     "cell_type": "code",
     "collapsed": false,
     "input": [
      "import scipy.signal\n",
      "b, a = scipy.signal.butter(1, 0.04, 'low')\n",
      "xfilt = scipy.signal.filtfilt(b, a, acs[:,0])\n",
      "yfilt = scipy.signal.filtfilt(b, a, acs[:,1])\n",
      "zfilt = scipy.signal.filtfilt(b, a, acs[:,2])\n",
      "\n",
      "\n",
      "mlab.plot3d(acs[:,0],acs[:,1],acs[:,2])\n",
      "mlab.plot3d(xfilt,yfilt,zfilt,z[:-2])\n",
      "mlab.show()"
     ],
     "language": "python",
     "metadata": {},
     "outputs": [],
     "prompt_number": 54
    }
   ],
   "metadata": {}
  }
 ]
}